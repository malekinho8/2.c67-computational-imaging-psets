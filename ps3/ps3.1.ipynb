{
 "cells": [
  {
   "cell_type": "code",
   "execution_count": 1,
   "metadata": {},
   "outputs": [],
   "source": [
    "import numpy as np"
   ]
  },
  {
   "cell_type": "code",
   "execution_count": 2,
   "metadata": {},
   "outputs": [],
   "source": [
    "H = np.array([[0.1, 0.5, 1.0],\n",
    "              [0.11, 0.1, 0.11],\n",
    "              [1.0, 0.5, 0.1]])"
   ]
  },
  {
   "cell_type": "code",
   "execution_count": 32,
   "metadata": {},
   "outputs": [
    {
     "name": "stdout",
     "output_type": "stream",
     "text": [
      "(3,)\n"
     ]
    }
   ],
   "source": [
    "# define f\n",
    "f = np.array([1,0,0])\n",
    "\n",
    "print(f.shape)"
   ]
  },
  {
   "cell_type": "code",
   "execution_count": 33,
   "metadata": {},
   "outputs": [],
   "source": [
    "U, S, VT = np.linalg.svd(H)"
   ]
  },
  {
   "cell_type": "code",
   "execution_count": 34,
   "metadata": {},
   "outputs": [
    {
     "data": {
      "text/plain": [
       "(array([[-7.00140042e-01,  7.07106781e-01,  9.90147543e-02],\n",
       "        [-1.40028008e-01, -1.74272567e-16, -9.90147543e-01],\n",
       "        [-7.00140042e-01, -7.07106781e-01,  9.90147543e-02]]),\n",
       " array([1.32068164e+00, 9.00000000e-01, 2.15690850e-16]),\n",
       " array([[-5.94811877e-01, -5.40738070e-01, -5.94811877e-01],\n",
       "        [-7.07106781e-01,  6.05743167e-17,  7.07106781e-01],\n",
       "        [ 3.82359556e-01, -8.41191024e-01,  3.82359556e-01]]))"
      ]
     },
     "execution_count": 34,
     "metadata": {},
     "output_type": "execute_result"
    }
   ],
   "source": [
    "U, S, VT"
   ]
  },
  {
   "cell_type": "code",
   "execution_count": 35,
   "metadata": {},
   "outputs": [
    {
     "data": {
      "text/plain": [
       "array([1.32068164e+00, 9.00000000e-01, 2.15690850e-16])"
      ]
     },
     "execution_count": 35,
     "metadata": {},
     "output_type": "execute_result"
    }
   ],
   "source": [
    "S"
   ]
  },
  {
   "cell_type": "code",
   "execution_count": 36,
   "metadata": {},
   "outputs": [
    {
     "name": "stdout",
     "output_type": "stream",
     "text": [
      "[0.1  0.11 1.  ] (3,)\n"
     ]
    }
   ],
   "source": [
    "# compute g = Hf\n",
    "g = np.matmul(H,f)\n",
    "\n",
    "print(g, g.shape)"
   ]
  },
  {
   "cell_type": "code",
   "execution_count": 37,
   "metadata": {},
   "outputs": [],
   "source": [
    "# compute the pseudo inverse of H\n",
    "S_t_diag = np.diag(S[0:2])\n",
    "VT_t = VT[0:2,:]\n",
    "U_t = U[:,0:2] \n",
    "inv_of_ST_times_S = np.linalg.inv(np.matmul(S_t_diag.T,S_t_diag))\n",
    "H_pinv = np.matmul(np.matmul(np.matmul(VT_t.T,inv_of_ST_times_S),S_t_diag.T),U_t.T)"
   ]
  },
  {
   "cell_type": "code",
   "execution_count": 38,
   "metadata": {},
   "outputs": [],
   "source": [
    "f_hat = np.matmul(H_pinv,g)"
   ]
  },
  {
   "cell_type": "code",
   "execution_count": 39,
   "metadata": {},
   "outputs": [
    {
     "name": "stdout",
     "output_type": "stream",
     "text": [
      "[ 0.85380117  0.32163743 -0.14619883]\n"
     ]
    }
   ],
   "source": [
    "print(f_hat)"
   ]
  },
  {
   "cell_type": "code",
   "execution_count": null,
   "metadata": {},
   "outputs": [],
   "source": []
  }
 ],
 "metadata": {
  "kernelspec": {
   "display_name": "Python 3.10.9 ('base')",
   "language": "python",
   "name": "python3"
  },
  "language_info": {
   "codemirror_mode": {
    "name": "ipython",
    "version": 3
   },
   "file_extension": ".py",
   "mimetype": "text/x-python",
   "name": "python",
   "nbconvert_exporter": "python",
   "pygments_lexer": "ipython3",
   "version": "3.10.13"
  },
  "orig_nbformat": 4,
  "vscode": {
   "interpreter": {
    "hash": "66cd2d487f187f381addcdda0eaddd2d9b2b5233557cf2e2de0ac14aef8f172e"
   }
  }
 },
 "nbformat": 4,
 "nbformat_minor": 2
}
