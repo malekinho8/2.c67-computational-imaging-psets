{
 "cells": [
  {
   "cell_type": "code",
   "execution_count": 2,
   "metadata": {},
   "outputs": [],
   "source": [
    "import numpy as np\n",
    "import matplotlib.pyplot as plt\n",
    "from ipywidgets import interact\n",
    "from matplotlib.animation import FuncAnimation"
   ]
  },
  {
   "cell_type": "code",
   "execution_count": 3,
   "metadata": {},
   "outputs": [],
   "source": [
    "def rect(x,a=1,b=0):\n",
    "    return 1 if np.abs((x+b)/a) < 0.5 else 0"
   ]
  },
  {
   "cell_type": "code",
   "execution_count": 4,
   "metadata": {},
   "outputs": [
    {
     "data": {
      "image/png": "[encoded data removed]",
      "text/plain": [
       "<Figure size 640x480 with 2 Axes>"
      ]
     },
     "metadata": {},
     "output_type": "display_data"
    }
   ],
   "source": [
    "rect_vec = np.vectorize(rect)\n",
    "\n",
    "x_points = np.linspace(-20,20,1000)\n",
    "y_vals = rect_vec(x_points)\n",
    "\n",
    "convolve_result = np.zeros(2*len(y_vals) - 1) # account for sliding operation\n",
    "\n",
    "# for shift in np.linspace(-20 - len(y_vals)//2 + 1, 20 + len(y_vals)//2 - 1, 200):\n",
    "for i in range(len(convolve_result)):\n",
    "    sum_value = 0\n",
    "    for j in range(len(y_vals)):\n",
    "        if i - j < 0 or i - j >= len(y_vals):\n",
    "            continue\n",
    "        sum_value += y_vals[j] * y_vals[i - j]\n",
    "    convolve_result[i] = sum_value\n",
    "\n",
    "plt.figure()\n",
    "\n",
    "plt.subplot(2,1,1)\n",
    "plt.plot(x_points,y_vals)\n",
    "plt.title('Original Rect Function')\n",
    "\n",
    "# plot convolution result\n",
    "plt.subplot(2,1,2)\n",
    "conv_x_values = np.linspace(-400,400,len(convolve_result))\n",
    "plt.plot(conv_x_values,convolve_result)\n",
    "plt.title('Convolution Result')\n",
    "\n",
    "plt.show()"
   ]
  },
  {
   "cell_type": "markdown",
   "metadata": {},
   "source": [
    "## PS2.1b Check"
   ]
  },
  {
   "cell_type": "code",
   "execution_count": 5,
   "metadata": {},
   "outputs": [],
   "source": [
    "# now i want to define the custom function in ps2.1\n",
    "def f(x,a,b):\n",
    "    return rect((x-b)/a) + rect((x+b)/a)"
   ]
  },
  {
   "cell_type": "code",
   "execution_count": 6,
   "metadata": {},
   "outputs": [],
   "source": [
    "f_vec = np.vectorize(f)"
   ]
  },
  {
   "cell_type": "code",
   "execution_count": 7,
   "metadata": {},
   "outputs": [],
   "source": [
    "def rect_plotter(a=1,b=0):\n",
    "    x = np.linspace(-10,10,1000)\n",
    "    y = f_vec(x,a,b)\n",
    "    plt.plot(x,y)\n",
    "    plt.ylim(-0.2,3)\n",
    "    plt.show()"
   ]
  },
  {
   "cell_type": "code",
   "execution_count": 8,
   "metadata": {},
   "outputs": [
    {
     "data": {
      "application/vnd.jupyter.widget-view+json": {
       "model_id": "a7658a8765614917a774dd225e8a8ebd",
       "version_major": 2,
       "version_minor": 0
      },
      "text/plain": [
       "interactive(children=(FloatSlider(value=1.0, description='a', max=10.0, min=0.01), FloatSlider(value=0.01, des…"
      ]
     },
     "metadata": {},
     "output_type": "display_data"
    },
    {
     "data": {
      "text/plain": [
       "<function __main__.rect_plotter(a=1, b=0)>"
      ]
     },
     "execution_count": 8,
     "metadata": {},
     "output_type": "execute_result"
    }
   ],
   "source": [
    "interact(rect_plotter, a=(0.01,10), b=(0.01,10))"
   ]
  },
  {
   "cell_type": "markdown",
   "metadata": {},
   "source": [
    "### Convolving the Function with Itself"
   ]
  },
  {
   "cell_type": "code",
   "execution_count": 9,
   "metadata": {},
   "outputs": [],
   "source": [
    "xmin = -10\n",
    "xmax = 10.0\n",
    "nSteps = 1000\n",
    "nFrames = 200\n",
    "movieStepSize = (xmax - xmin)/ nFrames\n",
    "computeStepSize = (xmax - xmin)/ nSteps\n",
    "\n",
    "func1 = f_vec\n",
    "func2 = f_vec"
   ]
  },
  {
   "cell_type": "code",
   "execution_count": 12,
   "metadata": {},
   "outputs": [],
   "source": [
    "def make_convolution_plots(i=1, a=1, b=0):\n",
    "    fig, axes = plt.subplots(3)\n",
    "    axes[0].set_xlim([xmin-xmin*0.1, xmax*1.1])\n",
    "    axes[1].set_xlim([xmin-xmin*0.1, xmax*1.1])\n",
    "    axes[2].set_xlim([xmin-xmin*0.1, xmax*1.1])\n",
    "    axes[0].set_ylim([-3, 3])\n",
    "    axes[1].set_ylim([-3, 3])\n",
    "    axes[2].set_ylim([-3, 3])\n",
    "\n",
    "    line0, = axes[0].plot([], [], lw=3)\n",
    "    line1, = axes[1].plot([], [], lw=3)\n",
    "    line2, = axes[2].plot([], [], lw=3)\n",
    "\n",
    "    line0.set_data([], [])\n",
    "    line1.set_data([], [])\n",
    "    line2.set_data([], [])\n",
    "\n",
    "    z = movieStepSize * i + xmin\n",
    "\n",
    "    x = np.linspace(xmin, xmax, nSteps)\n",
    "\n",
    "    def conv(x):\n",
    "        y = np.zeros(nSteps,)\n",
    "        f= func1(x,a,b)\n",
    "        \n",
    "        for i in range(nSteps):\n",
    "            z = i * computeStepSize + xmin\n",
    "            g = func2(z-x,a,b)\n",
    "            y[i] = np.sum (f*g) * computeStepSize\n",
    "        return (y)\n",
    "    \n",
    "    fcg = conv(x)\n",
    "\n",
    "    line0.set_data(x, func1(x,a,b))\n",
    "    line1.set_data(x, func2(z-x,a,b))\n",
    "    pos = (int)(i * nSteps / nFrames)\n",
    "    line2.set_data(x[:pos ], fcg [:pos])"
   ]
  },
  {
   "cell_type": "code",
   "execution_count": 13,
   "metadata": {},
   "outputs": [
    {
     "data": {
      "application/vnd.jupyter.widget-view+json": {
       "model_id": "b39da519ecd846f5b53cf595b3b99998",
       "version_major": 2,
       "version_minor": 0
      },
      "text/plain": [
       "interactive(children=(IntSlider(value=1, description='i', max=1000), FloatSlider(value=1.0, description='a', m…"
      ]
     },
     "metadata": {},
     "output_type": "display_data"
    },
    {
     "data": {
      "text/plain": [
       "<function __main__.make_convolution_plots(i=1, a=1, b=0)>"
      ]
     },
     "execution_count": 13,
     "metadata": {},
     "output_type": "execute_result"
    }
   ],
   "source": [
    "interact(make_convolution_plots,i=(0,nSteps),a=(0.01,10),b=(0.01,10))"
   ]
  },
  {
   "cell_type": "code",
   "execution_count": null,
   "metadata": {},
   "outputs": [],
   "source": []
  }
 ],
 "metadata": {
  "kernelspec": {
   "display_name": "Python 3.10.9 ('base')",
   "language": "python",
   "name": "python3"
  },
  "language_info": {
   "codemirror_mode": {
    "name": "ipython",
    "version": 3
   },
   "file_extension": ".py",
   "mimetype": "text/x-python",
   "name": "python",
   "nbconvert_exporter": "python",
   "pygments_lexer": "ipython3",
   "version": "3.10.13"
  },
  "orig_nbformat": 4,
  "vscode": {
   "interpreter": {
    "hash": "66cd2d487f187f381addcdda0eaddd2d9b2b5233557cf2e2de0ac14aef8f172e"
   }
  }
 },
 "nbformat": 4,
 "nbformat_minor": 2
}
